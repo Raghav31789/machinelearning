{
 "cells": [
  {
   "cell_type": "markdown",
   "metadata": {},
   "source": [
    "## Assignments:  implement  Binomial , Poisson and co-relation function with Python "
   ]
  },
  {
   "cell_type": "markdown",
   "metadata": {},
   "source": [
    "###### Python function  to calculate Binomial probabilities and other statistical parameters "
   ]
  },
  {
   "cell_type": "code",
   "execution_count": 1,
   "metadata": {},
   "outputs": [],
   "source": [
    "def binomial(data,ret,poslabel,dic,prob=None):\n",
    "    \"\"\"\n",
    "    input : \n",
    "        data     : list of data population or int representing Sample population\n",
    "        ret      : int or string where 1: Ex(X), 2:Var(X),3:standard_devaiation, All: will fetch (1,2,3)\n",
    "        poslabel : int or string label in data for identifies postive cases\n",
    "        dic      : (key,value)pairs for computing cummulative probabilities of cases  possible keys [less,equal,greater] \n",
    "        prob     : prob of data is know else probability( pos) is caluclated from data if passed\n",
    "    out put : \n",
    "        dictionary :\n",
    "         will have default key,value pair which indicates the probability of cases default is 0\n",
    "         \n",
    "    Example1: binomial([1,2,3,4,5,1,1,1,1,1],ret=\"all\",poslabel=1,dic={\"equal\":2})\n",
    "             result = {'E(1)': 6.0,'Var(1)': 2.4000000000000004,'StdDev(1)': 1.5491933384829668,\n",
    "             'Probability of condition': 0.010616832000000005}\n",
    "    Example2: binomial(8,\"all\",\"X\",{\"less\":2},0.6)  \n",
    "             result = {'E(X)': 4.8,\n",
    "                        'Var(X)': 1.92,\n",
    "                        'StdDev(X)': 1.3856406460551018,\n",
    "                         'Probability of condition': 0.008519680000000003}\n",
    "                         \n",
    "    \"\"\"\n",
    "    import math\n",
    "    output,data,n,pos,cumm_format,cmf = {},data,0,0,{},0\n",
    "    binom_loop = {}\n",
    "    \n",
    "    if isinstance(data,int):\n",
    "        n=data\n",
    "    elif isinstance(data,list):\n",
    "        n = len(data)\n",
    "        \n",
    "    if prob==None:\n",
    "        pos = data.count(poslabel)/len(data)\n",
    "    else:\n",
    "        pos = prob\n",
    "    \n",
    "    ex_x,var_x,std_x=0,0,0\n",
    "    ex_x =  n * pos\n",
    "    var_x = n * pos * (1-pos)\n",
    "    std_x = math.sqrt(var_x)\n",
    "    \n",
    "    def cummulative(data,probability,condition):\n",
    "        loop,result = 0,0\n",
    "        \n",
    "        def fact(x):\n",
    "            fac =1\n",
    "            for i in range(x,0,-1):\n",
    "                fac= fac * i \n",
    "            return fac\n",
    "    \n",
    "        probs = {}\n",
    "        for i in range(data,-1,-1):\n",
    "            n = data\n",
    "            x = i\n",
    "            probs[i]=fact(n)/(fact(i)*fact(n-i)) * (probability) ** i * (1-probability) ** (n-i)\n",
    "        cond = list(condition.keys())[0]\n",
    "        if cond ==\"greater\":\n",
    "            for i in range(condition[cond]+1,data+1):\n",
    "                result=result+probs[i]\n",
    "        elif cond == \"less\":\n",
    "            for i in range(condition[cond]-1,-1,-1):\n",
    "                result = result+probs[i]\n",
    "        elif cond == \"equal\":\n",
    "            result = result+probs[condition[cond]]\n",
    "        return result\n",
    "    \n",
    "    \n",
    "    if len(dic)==0:\n",
    "        cumm_format = {\"default\":cmf}\n",
    "    else:\n",
    "        cmf = cummulative(n,pos,dic)\n",
    "        cumm_format = {\"{}\".format(list(dic.keys())[0]):cmf}\n",
    "    \n",
    "    if isinstance(ret,str):\n",
    "        output= {\"E({})\".format(poslabel):ex_x,\"Var({})\".format(poslabel):var_x,\n",
    "                \"StdDev({})\".format(poslabel):std_x,\"Probability of condition\":cmf}\n",
    "    elif ret == 1:\n",
    "        output = {\"E({})\".format(poslabel):ex_x,\"Probability of condition\":cmf}\n",
    "    \n",
    "    elif ret == 2:\n",
    "        output = {\"Var({})\".format(poslabel):var_x,\"Probability of condition\":cmf}\n",
    "    \n",
    "    elif ret == 3:\n",
    "        output = {\"StdDev({})\".format(poslabel):std_x,\"Probability of condition\":cmf}\n",
    "    \n",
    "    \n",
    "    return output       "
   ]
  },
  {
   "cell_type": "code",
   "execution_count": 2,
   "metadata": {},
   "outputs": [
    {
     "data": {
      "text/plain": [
       "{'E(X)': 4.8,\n",
       " 'Var(X)': 1.92,\n",
       " 'StdDev(X)': 1.3856406460551018,\n",
       " 'Probability of condition': 0.008519680000000003}"
      ]
     },
     "execution_count": 2,
     "metadata": {},
     "output_type": "execute_result"
    }
   ],
   "source": [
    "binomial(8,\"all\",\"X\",{\"less\":2},0.6)"
   ]
  },
  {
   "cell_type": "code",
   "execution_count": 3,
   "metadata": {},
   "outputs": [
    {
     "data": {
      "text/plain": [
       "{'E(X)': 4.8, 'Probability of condition': 0.008519680000000003}"
      ]
     },
     "execution_count": 3,
     "metadata": {},
     "output_type": "execute_result"
    }
   ],
   "source": [
    "binomial(8,1,\"X\",{\"less\":2},0.6)"
   ]
  },
  {
   "cell_type": "markdown",
   "metadata": {},
   "source": [
    "###### Poisson distribution and  probabilites"
   ]
  },
  {
   "cell_type": "code",
   "execution_count": 4,
   "metadata": {},
   "outputs": [],
   "source": [
    "## Poisson distribution\n",
    "\n",
    "def poisson(rate,case):\n",
    "    \"\"\"\n",
    "        inputs:\n",
    "            rate: rate \n",
    "            case: list -> list of K or (key,values) for caluclating the different rates\n",
    "        output:\n",
    "            dictionary:\n",
    "        example:poisson(10,[0,1,2])\n",
    "                output:{'P(0)': 4.5399929762484875e-05,\n",
    "                        'P(1)': 0.00045399929762484877,\n",
    "                        'P(2)': 0.0022699964881242435}\n",
    "                        \n",
    "        example: poisson(2,{4:3,6:3}) \n",
    "                output:{'P(X =4 | 3)': 0.1338526175399834, 'P(X =6 | 3)': 0.1606231410479801}\n",
    "    \n",
    "    \"\"\"\n",
    "    \n",
    "    import math\n",
    "    #mean = rate * N\n",
    "    #std = math.sqrt(mean)\n",
    "    output = {}\n",
    "    def fact(x):\n",
    "        fac =1\n",
    "        for i in range(x,0,-1):\n",
    "            fac= fac * i \n",
    "        return fac\n",
    "    #formula for poission : lamda ** case * e ** -lamda / k!\n",
    "    if isinstance(case,list):\n",
    "        for i in range(len(case)):\n",
    "            output[\"P({})\".format(case[i])] = rate ** case[i] * math.e ** -rate / fact(case[i])\n",
    "    elif isinstance(case,dict):\n",
    "        for i in range(len(case.keys())):\n",
    "            key = list(case.keys())[i]\n",
    "            val = case[key]\n",
    "            lam = rate * val\n",
    "            output[\"P(X ={}|{})\".format(key,val)] = (lam )** key * math.e **-(lam) / fact(key)\n",
    "            \n",
    "    return output\n",
    "    "
   ]
  },
  {
   "cell_type": "code",
   "execution_count": 5,
   "metadata": {},
   "outputs": [
    {
     "data": {
      "text/plain": [
       "{'P(X =4|3)': 0.1338526175399834, 'P(X =6|3)': 0.1606231410479801}"
      ]
     },
     "execution_count": 5,
     "metadata": {},
     "output_type": "execute_result"
    }
   ],
   "source": [
    "poisson(2,{4:3,6:3})"
   ]
  },
  {
   "cell_type": "code",
   "execution_count": 6,
   "metadata": {},
   "outputs": [
    {
     "data": {
      "text/plain": [
       "{'P(0)': 4.5399929762484875e-05,\n",
       " 'P(1)': 0.00045399929762484877,\n",
       " 'P(2)': 0.0022699964881242435}"
      ]
     },
     "execution_count": 6,
     "metadata": {},
     "output_type": "execute_result"
    }
   ],
   "source": [
    "poisson(10,[0,1,2])"
   ]
  },
  {
   "cell_type": "markdown",
   "metadata": {},
   "source": [
    "###### Pearsons correaltion factor r "
   ]
  },
  {
   "cell_type": "code",
   "execution_count": 7,
   "metadata": {},
   "outputs": [],
   "source": [
    "## Correlation \n",
    "\n",
    "def correlation(data):\n",
    "    \"\"\"\n",
    "        input : dictionary keys: values , values 1D list\n",
    "        ouput : dictionary of pearsons values between data columns\n",
    "    \n",
    "    \"\"\"\n",
    "    import math\n",
    "    m = len(data)\n",
    "    n = len(data[list(data.keys())[0]])\n",
    "    cols = list(data.keys())\n",
    "    output ={\"C\":cols}\n",
    "    \n",
    "    for i in range(m):\n",
    "        output[cols[i]]= []\n",
    "        for j in range(m):\n",
    "            x = data[cols[i]]\n",
    "            y = data[cols[j]]\n",
    "            x_sum = sum(x)\n",
    "            y_sum = sum(y)\n",
    "            xy_sum = sum([x[z] * y[z] for z in range(len(x))])\n",
    "            sqrd_x = sum([z **2 for z in x])\n",
    "            sqrd_y = sum([z ** 2 for z in y ])\n",
    "            #pemdas\n",
    "            numerator  = xy_sum - x_sum * y_sum / n\n",
    "            denom_1 = sqrd_x - (x_sum ** 2)/ n\n",
    "            denom_2 = sqrd_y - (y_sum ** 2) / n\n",
    "            \n",
    "            r =round(numerator / math.sqrt(denom_1 * denom_2),2)\n",
    "            output[cols[i]].append(r)\n",
    "            \n",
    "            \n",
    "    return output\n",
    "    "
   ]
  },
  {
   "cell_type": "code",
   "execution_count": 8,
   "metadata": {},
   "outputs": [],
   "source": [
    "data  = {\"x\":[7,6,8,5,6,9],\"y\":[12,8,12,10,11,13],\"z\":[7,6,8,5,6,9]}\n",
    "data2 = {\"x\":[10,8,2,1,5,6],\"y\":[2,3,9,7,6,5]}"
   ]
  },
  {
   "cell_type": "code",
   "execution_count": 33,
   "metadata": {},
   "outputs": [
    {
     "name": "stdout",
     "output_type": "stream",
     "text": [
      "C ['x', 'y']\n",
      "x [1.0, -0.94]\n",
      "y [-0.94, 1.0]\n"
     ]
    }
   ],
   "source": [
    "cor = correlation(data2)\n",
    "for k,v in cor.items():\n",
    "    print(k,v)"
   ]
  },
  {
   "cell_type": "code",
   "execution_count": 9,
   "metadata": {},
   "outputs": [
    {
     "name": "stdout",
     "output_type": "stream",
     "text": [
      "C ['x', 'y', 'z']\n",
      "x [1.0, 0.76, 1.0]\n",
      "y [0.76, 1.0, 0.76]\n",
      "z [1.0, 0.76, 1.0]\n"
     ]
    }
   ],
   "source": [
    "corr = correlation(data)\n",
    "for k,v in corr.items():\n",
    "    print(k,v)"
   ]
  },
  {
   "cell_type": "code",
   "execution_count": null,
   "metadata": {},
   "outputs": [],
   "source": []
  }
 ],
 "metadata": {
  "kernelspec": {
   "display_name": "Python 3",
   "language": "python",
   "name": "python3"
  },
  "language_info": {
   "codemirror_mode": {
    "name": "ipython",
    "version": 3
   },
   "file_extension": ".py",
   "mimetype": "text/x-python",
   "name": "python",
   "nbconvert_exporter": "python",
   "pygments_lexer": "ipython3",
   "version": "3.7.6"
  }
 },
 "nbformat": 4,
 "nbformat_minor": 2
}
